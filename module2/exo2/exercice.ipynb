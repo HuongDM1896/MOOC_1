{
 "cells": [
  {
   "cell_type": "code",
   "execution_count": 17,
   "metadata": {},
   "outputs": [
    {
     "name": "stdout",
     "output_type": "stream",
     "text": [
      "Mean: 14.113000000000001\n",
      "Standard_variation: 4.312369534258399\n",
      "4.31\n",
      "Min: 2.8\n",
      "Median: 14.5\n",
      "Max: 23.4\n"
     ]
    }
   ],
   "source": [
    "import numpy as np\n",
    "#import pandas as pd\n",
    "\n",
    "\n",
    "#input dataset\n",
    "data =  [14.0, 7.6, 11.2, 12.8, 12.5, 9.9, 14.9, 9.4, 16.9, 10.2, 14.9, 18.1, 7.3, 9.8, 10.9,\n",
    "        12.2, 9.9, 2.9, 2.8, 15.4, 15.7, 9.7, 13.1, 13.2, 12.3, 11.7, 16.0, 12.4, 17.9, 12.2,\n",
    "        16.2, 18.7, 8.9, 11.9, 12.1, 14.6, 12.1, 4.7, 3.9, 16.9, 16.8, 11.3, 14.4, 15.7, 14.0,\n",
    "        13.6, 18.0, 13.6, 19.9, 13.7, 17.0, 20.5, 9.9, 12.5, 13.2, 16.1, 13.5, 6.3, 6.4, 17.6,\n",
    "        19.1, 12.8, 15.5, 16.3, 15.2, 14.6, 19.1, 14.4, 21.4, 15.1, 19.6, 21.7, 11.3, 15.0, 14.3,\n",
    "        16.8, 14.0, 6.8, 8.2, 19.9, 20.4, 14.6, 16.4, 18.7, 16.8, 15.8, 20.4, 15.8, 22.4, 16.2,\n",
    "        20.3, 23.4, 12.1, 15.5, 15.4, 18.4, 15.7, 10.2, 8.9, 21.0]\n",
    "\n",
    "#convert to array\n",
    "data_1 = np.array(data)\n",
    "#mean\n",
    "print(\"Mean:\", np.mean(data_1))\n",
    "\n",
    "#standard_variation\n",
    "print(\"Standard_variation:\", np.std(data_1))\n",
    "a = round(np.std(data_1),2)\n",
    "print(a)\n",
    "\n",
    "#minimum\n",
    "print(\"Min:\", np.min(data_1))\n",
    "\n",
    "#median\n",
    "print(\"Median:\", np.median(data_1))\n",
    "\n",
    "#maximum\n",
    "print(\"Max:\", np.max(data_1))"
   ]
  },
  {
   "cell_type": "code",
   "execution_count": 8,
   "metadata": {},
   "outputs": [
    {
     "name": "stdout",
     "output_type": "stream",
     "text": [
      "Mean: 14.113000000000001\n",
      "Standard Deviation: 4.312369534258399\n",
      "Minimum: 2.8\n",
      "Median: 14.5\n",
      "Maximum: 23.4\n"
     ]
    }
   ],
   "source": [
    "import numpy as np\n",
    "import pandas as pd\n",
    "\n",
    "# Input the dataset\n",
    "data = [14.0, 7.6, 11.2, 12.8, 12.5, 9.9, 14.9, 9.4, 16.9, 10.2, 14.9, 18.1, 7.3, 9.8, 10.9,\n",
    "        12.2, 9.9, 2.9, 2.8, 15.4, 15.7, 9.7, 13.1, 13.2, 12.3, 11.7, 16.0, 12.4, 17.9, 12.2,\n",
    "        16.2, 18.7, 8.9, 11.9, 12.1, 14.6, 12.1, 4.7, 3.9, 16.9, 16.8, 11.3, 14.4, 15.7, 14.0,\n",
    "        13.6, 18.0, 13.6, 19.9, 13.7, 17.0, 20.5, 9.9, 12.5, 13.2, 16.1, 13.5, 6.3, 6.4, 17.6,\n",
    "        19.1, 12.8, 15.5, 16.3, 15.2, 14.6, 19.1, 14.4, 21.4, 15.1, 19.6, 21.7, 11.3, 15.0, 14.3,\n",
    "        16.8, 14.0, 6.8, 8.2, 19.9, 20.4, 14.6, 16.4, 18.7, 16.8, 15.8, 20.4, 15.8, 22.4, 16.2,\n",
    "        20.3, 23.4, 12.1, 15.5, 15.4, 18.4, 15.7, 10.2, 8.9, 21.0]\n",
    "\n",
    "# Convert to a numpy array\n",
    "np_data = np.array(data)\n",
    "\n",
    "# Compute the mean\n",
    "mean_value = np.mean(np_data)\n",
    "print(f\"Mean: {mean_value}\")\n",
    "\n",
    "# Compute the standard deviation\n",
    "std_deviation = np.std(np_data)\n",
    "print(f\"Standard Deviation: {std_deviation}\")\n",
    "\n",
    "# Compute the minimum\n",
    "min_value = np.min(np_data)\n",
    "print(f\"Minimum: {min_value}\")\n",
    "\n",
    "# Compute the median\n",
    "median_value = np.median(np_data)\n",
    "print(f\"Median: {median_value}\")\n",
    "\n",
    "# Compute the maximum\n",
    "max_value = np.max(np_data)\n",
    "print(f\"Maximum: {max_value}\")\n"
   ]
  },
  {
   "cell_type": "code",
   "execution_count": null,
   "metadata": {},
   "outputs": [],
   "source": []
  }
 ],
 "metadata": {
  "kernelspec": {
   "display_name": "Python 3",
   "language": "python",
   "name": "python3"
  },
  "language_info": {
   "codemirror_mode": {
    "name": "ipython",
    "version": 3
   },
   "file_extension": ".py",
   "mimetype": "text/x-python",
   "name": "python",
   "nbconvert_exporter": "python",
   "pygments_lexer": "ipython3",
   "version": "3.6.4"
  }
 },
 "nbformat": 4,
 "nbformat_minor": 2
}
